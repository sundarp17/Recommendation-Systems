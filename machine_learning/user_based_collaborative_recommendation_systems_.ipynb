{
  "nbformat": 4,
  "nbformat_minor": 0,
  "metadata": {
    "colab": {
      "name": "user based collaborative recommendation systems .ipynb",
      "provenance": [],
      "authorship_tag": "ABX9TyPET31Tq7nP1wRETMqJ5p7J",
      "include_colab_link": true
    },
    "kernelspec": {
      "name": "python3",
      "display_name": "Python 3"
    }
  },
  "cells": [
    {
      "cell_type": "markdown",
      "metadata": {
        "id": "view-in-github",
        "colab_type": "text"
      },
      "source": [
        "<a href=\"https://colab.research.google.com/github/sundarp17/Recommendation-Systems/blob/main/machine_learning/user_based_collaborative_recommendation_systems_.ipynb\" target=\"_parent\"><img src=\"https://colab.research.google.com/assets/colab-badge.svg\" alt=\"Open In Colab\"/></a>"
      ]
    },
    {
      "cell_type": "markdown",
      "metadata": {
        "id": "yERK82akZBTZ"
      },
      "source": [
        "**Machine Learning Based Recommendation Systems**"
      ]
    },
    {
      "cell_type": "markdown",
      "metadata": {
        "id": "h1mM2sUFZeiQ"
      },
      "source": [
        "Classification based collaborative filtering systems(user-based)\r\n",
        "\r\n",
        "classifier - Logistic Regression"
      ]
    },
    {
      "cell_type": "code",
      "metadata": {
        "id": "qXbasK2UZAyO"
      },
      "source": [
        "import numpy as np\r\n",
        "import pandas as pd\r\n",
        "from sklearn.linear_model import LogisticRegression"
      ],
      "execution_count": 1,
      "outputs": []
    },
    {
      "cell_type": "markdown",
      "metadata": {
        "id": "MMp-zN1ZaDQN"
      },
      "source": [
        "We want to check the model can predict whether client will take new policy based on other users and older transactions"
      ]
    },
    {
      "cell_type": "code",
      "metadata": {
        "colab": {
          "base_uri": "https://localhost:8080/",
          "height": 215
        },
        "id": "-ufk5Y_waus_",
        "outputId": "9c1f85a8-231b-410d-d386-85e572f9bd00"
      },
      "source": [
        "bank_full = pd.read_csv(r'/content/bank_full_w_dummy_vars.csv')\r\n",
        "bank_full.head()"
      ],
      "execution_count": 2,
      "outputs": [
        {
          "output_type": "execute_result",
          "data": {
            "text/html": [
              "<div>\n",
              "<style scoped>\n",
              "    .dataframe tbody tr th:only-of-type {\n",
              "        vertical-align: middle;\n",
              "    }\n",
              "\n",
              "    .dataframe tbody tr th {\n",
              "        vertical-align: top;\n",
              "    }\n",
              "\n",
              "    .dataframe thead th {\n",
              "        text-align: right;\n",
              "    }\n",
              "</style>\n",
              "<table border=\"1\" class=\"dataframe\">\n",
              "  <thead>\n",
              "    <tr style=\"text-align: right;\">\n",
              "      <th></th>\n",
              "      <th>age</th>\n",
              "      <th>job</th>\n",
              "      <th>marital</th>\n",
              "      <th>education</th>\n",
              "      <th>default</th>\n",
              "      <th>balance</th>\n",
              "      <th>housing</th>\n",
              "      <th>loan</th>\n",
              "      <th>contact</th>\n",
              "      <th>day</th>\n",
              "      <th>month</th>\n",
              "      <th>duration</th>\n",
              "      <th>campaign</th>\n",
              "      <th>pdays</th>\n",
              "      <th>previous</th>\n",
              "      <th>poutcome</th>\n",
              "      <th>y</th>\n",
              "      <th>y_binary</th>\n",
              "      <th>housing_loan</th>\n",
              "      <th>credit_in_default</th>\n",
              "      <th>personal_loans</th>\n",
              "      <th>prev_failed_to_subscribe</th>\n",
              "      <th>prev_subscribed</th>\n",
              "      <th>job_management</th>\n",
              "      <th>job_tech</th>\n",
              "      <th>job_entrepreneur</th>\n",
              "      <th>job_bluecollar</th>\n",
              "      <th>job_unknown</th>\n",
              "      <th>job_retired</th>\n",
              "      <th>job_services</th>\n",
              "      <th>job_self_employed</th>\n",
              "      <th>job_unemployed</th>\n",
              "      <th>job_maid</th>\n",
              "      <th>job_student</th>\n",
              "      <th>married</th>\n",
              "      <th>single</th>\n",
              "      <th>divorced</th>\n",
              "    </tr>\n",
              "  </thead>\n",
              "  <tbody>\n",
              "    <tr>\n",
              "      <th>0</th>\n",
              "      <td>58</td>\n",
              "      <td>management</td>\n",
              "      <td>married</td>\n",
              "      <td>tertiary</td>\n",
              "      <td>no</td>\n",
              "      <td>2143</td>\n",
              "      <td>yes</td>\n",
              "      <td>no</td>\n",
              "      <td>unknown</td>\n",
              "      <td>5</td>\n",
              "      <td>may</td>\n",
              "      <td>261</td>\n",
              "      <td>1</td>\n",
              "      <td>-1</td>\n",
              "      <td>0</td>\n",
              "      <td>unknown</td>\n",
              "      <td>no</td>\n",
              "      <td>0</td>\n",
              "      <td>1</td>\n",
              "      <td>0</td>\n",
              "      <td>0</td>\n",
              "      <td>0</td>\n",
              "      <td>0</td>\n",
              "      <td>1</td>\n",
              "      <td>0</td>\n",
              "      <td>0</td>\n",
              "      <td>0</td>\n",
              "      <td>0</td>\n",
              "      <td>0</td>\n",
              "      <td>0</td>\n",
              "      <td>0</td>\n",
              "      <td>0</td>\n",
              "      <td>0</td>\n",
              "      <td>0</td>\n",
              "      <td>1</td>\n",
              "      <td>0</td>\n",
              "      <td>0</td>\n",
              "    </tr>\n",
              "    <tr>\n",
              "      <th>1</th>\n",
              "      <td>44</td>\n",
              "      <td>technician</td>\n",
              "      <td>single</td>\n",
              "      <td>secondary</td>\n",
              "      <td>no</td>\n",
              "      <td>29</td>\n",
              "      <td>yes</td>\n",
              "      <td>no</td>\n",
              "      <td>unknown</td>\n",
              "      <td>5</td>\n",
              "      <td>may</td>\n",
              "      <td>151</td>\n",
              "      <td>1</td>\n",
              "      <td>-1</td>\n",
              "      <td>0</td>\n",
              "      <td>unknown</td>\n",
              "      <td>no</td>\n",
              "      <td>0</td>\n",
              "      <td>1</td>\n",
              "      <td>0</td>\n",
              "      <td>0</td>\n",
              "      <td>0</td>\n",
              "      <td>0</td>\n",
              "      <td>0</td>\n",
              "      <td>1</td>\n",
              "      <td>0</td>\n",
              "      <td>0</td>\n",
              "      <td>0</td>\n",
              "      <td>0</td>\n",
              "      <td>0</td>\n",
              "      <td>0</td>\n",
              "      <td>0</td>\n",
              "      <td>0</td>\n",
              "      <td>0</td>\n",
              "      <td>0</td>\n",
              "      <td>1</td>\n",
              "      <td>1</td>\n",
              "    </tr>\n",
              "    <tr>\n",
              "      <th>2</th>\n",
              "      <td>33</td>\n",
              "      <td>entrepreneur</td>\n",
              "      <td>married</td>\n",
              "      <td>secondary</td>\n",
              "      <td>no</td>\n",
              "      <td>2</td>\n",
              "      <td>yes</td>\n",
              "      <td>yes</td>\n",
              "      <td>unknown</td>\n",
              "      <td>5</td>\n",
              "      <td>may</td>\n",
              "      <td>76</td>\n",
              "      <td>1</td>\n",
              "      <td>-1</td>\n",
              "      <td>0</td>\n",
              "      <td>unknown</td>\n",
              "      <td>no</td>\n",
              "      <td>0</td>\n",
              "      <td>1</td>\n",
              "      <td>0</td>\n",
              "      <td>1</td>\n",
              "      <td>0</td>\n",
              "      <td>0</td>\n",
              "      <td>0</td>\n",
              "      <td>0</td>\n",
              "      <td>1</td>\n",
              "      <td>0</td>\n",
              "      <td>0</td>\n",
              "      <td>0</td>\n",
              "      <td>0</td>\n",
              "      <td>0</td>\n",
              "      <td>0</td>\n",
              "      <td>0</td>\n",
              "      <td>0</td>\n",
              "      <td>1</td>\n",
              "      <td>0</td>\n",
              "      <td>0</td>\n",
              "    </tr>\n",
              "    <tr>\n",
              "      <th>3</th>\n",
              "      <td>47</td>\n",
              "      <td>blue-collar</td>\n",
              "      <td>married</td>\n",
              "      <td>unknown</td>\n",
              "      <td>no</td>\n",
              "      <td>1506</td>\n",
              "      <td>yes</td>\n",
              "      <td>no</td>\n",
              "      <td>unknown</td>\n",
              "      <td>5</td>\n",
              "      <td>may</td>\n",
              "      <td>92</td>\n",
              "      <td>1</td>\n",
              "      <td>-1</td>\n",
              "      <td>0</td>\n",
              "      <td>unknown</td>\n",
              "      <td>no</td>\n",
              "      <td>0</td>\n",
              "      <td>1</td>\n",
              "      <td>0</td>\n",
              "      <td>0</td>\n",
              "      <td>0</td>\n",
              "      <td>0</td>\n",
              "      <td>0</td>\n",
              "      <td>0</td>\n",
              "      <td>0</td>\n",
              "      <td>1</td>\n",
              "      <td>0</td>\n",
              "      <td>0</td>\n",
              "      <td>0</td>\n",
              "      <td>0</td>\n",
              "      <td>0</td>\n",
              "      <td>0</td>\n",
              "      <td>0</td>\n",
              "      <td>1</td>\n",
              "      <td>0</td>\n",
              "      <td>0</td>\n",
              "    </tr>\n",
              "    <tr>\n",
              "      <th>4</th>\n",
              "      <td>33</td>\n",
              "      <td>unknown</td>\n",
              "      <td>single</td>\n",
              "      <td>unknown</td>\n",
              "      <td>no</td>\n",
              "      <td>1</td>\n",
              "      <td>no</td>\n",
              "      <td>no</td>\n",
              "      <td>unknown</td>\n",
              "      <td>5</td>\n",
              "      <td>may</td>\n",
              "      <td>198</td>\n",
              "      <td>1</td>\n",
              "      <td>-1</td>\n",
              "      <td>0</td>\n",
              "      <td>unknown</td>\n",
              "      <td>no</td>\n",
              "      <td>0</td>\n",
              "      <td>0</td>\n",
              "      <td>0</td>\n",
              "      <td>0</td>\n",
              "      <td>0</td>\n",
              "      <td>0</td>\n",
              "      <td>0</td>\n",
              "      <td>0</td>\n",
              "      <td>0</td>\n",
              "      <td>0</td>\n",
              "      <td>1</td>\n",
              "      <td>0</td>\n",
              "      <td>0</td>\n",
              "      <td>0</td>\n",
              "      <td>0</td>\n",
              "      <td>0</td>\n",
              "      <td>0</td>\n",
              "      <td>0</td>\n",
              "      <td>1</td>\n",
              "      <td>1</td>\n",
              "    </tr>\n",
              "  </tbody>\n",
              "</table>\n",
              "</div>"
            ],
            "text/plain": [
              "   age  ... divorced                    \n",
              "0   58  ...                            0\n",
              "1   44  ...                            1\n",
              "2   33  ...                            0\n",
              "3   47  ...                            0\n",
              "4   33  ...                            1\n",
              "\n",
              "[5 rows x 37 columns]"
            ]
          },
          "metadata": {
            "tags": []
          },
          "execution_count": 2
        }
      ]
    },
    {
      "cell_type": "code",
      "metadata": {
        "colab": {
          "base_uri": "https://localhost:8080/"
        },
        "id": "TTJwxePXfKVW",
        "outputId": "3b613745-7d3c-4933-a0e9-b689f8dfdca2"
      },
      "source": [
        "bank_full.info()"
      ],
      "execution_count": 3,
      "outputs": [
        {
          "output_type": "stream",
          "text": [
            "<class 'pandas.core.frame.DataFrame'>\n",
            "RangeIndex: 45211 entries, 0 to 45210\n",
            "Data columns (total 37 columns):\n",
            " #   Column                        Non-Null Count  Dtype \n",
            "---  ------                        --------------  ----- \n",
            " 0   age                           45211 non-null  int64 \n",
            " 1   job                           45211 non-null  object\n",
            " 2   marital                       45211 non-null  object\n",
            " 3   education                     45211 non-null  object\n",
            " 4   default                       45211 non-null  object\n",
            " 5   balance                       45211 non-null  int64 \n",
            " 6   housing                       45211 non-null  object\n",
            " 7   loan                          45211 non-null  object\n",
            " 8   contact                       45211 non-null  object\n",
            " 9   day                           45211 non-null  int64 \n",
            " 10  month                         45211 non-null  object\n",
            " 11  duration                      45211 non-null  int64 \n",
            " 12  campaign                      45211 non-null  int64 \n",
            " 13  pdays                         45211 non-null  int64 \n",
            " 14  previous                      45211 non-null  int64 \n",
            " 15  poutcome                      45211 non-null  object\n",
            " 16  y                             45211 non-null  object\n",
            " 17  y_binary                      45211 non-null  int64 \n",
            " 18  housing_loan                  45211 non-null  int64 \n",
            " 19  credit_in_default             45211 non-null  int64 \n",
            " 20  personal_loans                45211 non-null  int64 \n",
            " 21  prev_failed_to_subscribe      45211 non-null  int64 \n",
            " 22  prev_subscribed               45211 non-null  int64 \n",
            " 23  job_management                45211 non-null  int64 \n",
            " 24  job_tech                      45211 non-null  int64 \n",
            " 25  job_entrepreneur              45211 non-null  int64 \n",
            " 26  job_bluecollar                45211 non-null  int64 \n",
            " 27  job_unknown                   45211 non-null  int64 \n",
            " 28  job_retired                   45211 non-null  int64 \n",
            " 29  job_services                  45211 non-null  int64 \n",
            " 30  job_self_employed             45211 non-null  int64 \n",
            " 31  job_unemployed                45211 non-null  int64 \n",
            " 32  job_maid                      45211 non-null  int64 \n",
            " 33  job_student                   45211 non-null  int64 \n",
            " 34  married                       45211 non-null  int64 \n",
            " 35  single                        45211 non-null  int64 \n",
            " 36  divorced                      45211 non-null  int64 \n",
            "dtypes: int64(27), object(10)\n",
            "memory usage: 12.8+ MB\n"
          ],
          "name": "stdout"
        }
      ]
    },
    {
      "cell_type": "code",
      "metadata": {
        "id": "KzX4JwJufd-j"
      },
      "source": [
        "X = bank_full.iloc[:,18:37].values"
      ],
      "execution_count": 36,
      "outputs": []
    },
    {
      "cell_type": "code",
      "metadata": {
        "colab": {
          "base_uri": "https://localhost:8080/"
        },
        "id": "BWoH2zJwpIKG",
        "outputId": "850d6588-d6e0-4b93-df37-db9a0c6fb930"
      },
      "source": [
        "X"
      ],
      "execution_count": 37,
      "outputs": [
        {
          "output_type": "execute_result",
          "data": {
            "text/plain": [
              "array([[1, 0, 0, ..., 1, 0, 0],\n",
              "       [1, 0, 0, ..., 0, 1, 1],\n",
              "       [1, 0, 1, ..., 1, 0, 0],\n",
              "       ...,\n",
              "       [0, 0, 0, ..., 1, 0, 0],\n",
              "       [0, 0, 0, ..., 1, 0, 0],\n",
              "       [0, 0, 0, ..., 1, 0, 0]])"
            ]
          },
          "metadata": {
            "tags": []
          },
          "execution_count": 37
        }
      ]
    },
    {
      "cell_type": "code",
      "metadata": {
        "id": "d1h8U7haizWa"
      },
      "source": [
        "y = bank_full.iloc[:,17].values"
      ],
      "execution_count": 38,
      "outputs": []
    },
    {
      "cell_type": "code",
      "metadata": {
        "id": "Yl57hn_8kKFN"
      },
      "source": [
        "logreg = LogisticRegression()\r\n",
        "model = logreg.fit(X,y)"
      ],
      "execution_count": 39,
      "outputs": []
    },
    {
      "cell_type": "markdown",
      "metadata": {
        "id": "fqGiG6T2ldx5"
      },
      "source": [
        "user name - Sam\r\n",
        "\r\n",
        "sam is a single divorcee who works in management and is not in credit default. He doesn't have a home loan or any other personal loans. Also, no one from the marketing department has ever solicited to him before. Let's break this down into a list of user attributes for Sam. We know that he works in management, so the variable of job_management would be equal to 1. \r\n",
        "-------------------------------------------------------------------\r\n",
        "He's single, so the variable single would be equal to 1. \r\n",
        "----------------------------------------------------------------------\r\n",
        "He's a divorcee, so divorced also equal to 1. \r\n",
        "------------------------------------------------------------------------\r\n",
        "He doesn't have a housing loan at this time, so housing loan would be equal to 0. \r\n",
        "---------------------------------------------------------------------------\r\n",
        "He's not in credit default, so credit_in_default is also equal to 0. And he doesn't have any personal loans, so personal_loans would be equal to 0. \r\n",
        "---------------------------------------------------------------------\r\n",
        "What we do in order to represent Sam as a test point is we create a list that captures all of these binary values for each of the variables that describe him. "
      ]
    },
    {
      "cell_type": "code",
      "metadata": {
        "colab": {
          "base_uri": "https://localhost:8080/"
        },
        "id": "B2kG57f2lR5f",
        "outputId": "4981e7c7-a046-406a-cd2f-68ff8b65eb2f"
      },
      "source": [
        "'''sam = new user'''\r\n",
        "\r\n",
        "new_user = [[0 ,0 ,0 ,0 ,0 ,1 ,0 ,0 ,0 ,0 ,0 ,0 ,0 ,0 ,0 ,0 ,0 ,1 ,1]]\r\n",
        "\r\n",
        "y_pred = model.predict(new_user)\r\n",
        "y_pred"
      ],
      "execution_count": 40,
      "outputs": [
        {
          "output_type": "execute_result",
          "data": {
            "text/plain": [
              "array([0])"
            ]
          },
          "metadata": {
            "tags": []
          },
          "execution_count": 40
        }
      ]
    },
    {
      "cell_type": "markdown",
      "metadata": {
        "id": "m95F-zyBr63m"
      },
      "source": [
        "model is recommending he wont take the loan."
      ]
    }
  ]
}